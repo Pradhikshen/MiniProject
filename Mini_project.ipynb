{
  "nbformat": 4,
  "nbformat_minor": 0,
  "metadata": {
    "colab": {
      "provenance": [],
      "collapsed_sections": []
    },
    "kernelspec": {
      "name": "python3",
      "display_name": "Python 3"
    },
    "language_info": {
      "name": "python"
    }
  },
  "cells": [
    {
      "cell_type": "code",
      "source": [
        "\n",
        "K = [\n",
        "    0x428a2f98, 0x71374491, 0xb5c0fbcf, 0xe9b5dba5, 0x3956c25b, 0x59f111f1, 0x923f82a4, 0xab1c5ed5,\n",
        "    0xd807aa98, 0x12835b01, 0x243185be, 0x550c7dc3, 0x72be5d74, 0x80deb1fe, 0x9bdc06a7, 0xc19bf174,\n",
        "    0xe49b69c1, 0xefbe4786, 0x0fc19dc6, 0x240ca1cc, 0x2de92c6f, 0x4a7484aa, 0x5cb0a9dc, 0x76f988da,\n",
        "    0x983e5152, 0xa831c66d, 0xb00327c8, 0xbf597fc7, 0xc6e00bf3, 0xd5a79147, 0x06ca6351, 0x14292967,\n",
        "    0x27b70a85, 0x2e1b2138, 0x4d2c6dfc, 0x53380d13, 0x650a7354, 0x766a0abb, 0x81c2c92e, 0x92722c85,\n",
        "    0xa2bfe8a1, 0xa81a664b, 0xc24b8b70, 0xc76c51a3, 0xd192e819, 0xd6990624, 0xf40e3585, 0x106aa070,\n",
        "    0x19a4c116, 0x1e376c08, 0x2748774c, 0x34b0bcb5, 0x391c0cb3, 0x4ed8aa4a, 0x5b9cca4f, 0x682e6ff3,\n",
        "    0x748f82ee, 0x78a5636f, 0x84c87814, 0x8cc70208, 0x90befffa, 0xa4506ceb, 0xbef9a3f7, 0xc67178f2\n",
        "]\n",
        "\n",
        "def generate_hash(message: bytearray) -> bytearray:\n",
        "   \n",
        "\n",
        "    if isinstance(message, str):\n",
        "        message = bytearray(message, 'ascii')\n",
        "    elif isinstance(message, bytes):\n",
        "        message = bytearray(message)\n",
        "    elif not isinstance(message, bytearray):\n",
        "        raise TypeError\n",
        "\n",
        "    # Padding\n",
        "    length = len(message) * 8 # len(message) is number of BYTES!!!\n",
        "    message.append(0x80)\n",
        "    while (len(message) * 8 + 64) % 512 != 0:\n",
        "        message.append(0x00)\n",
        "\n",
        "    message += length.to_bytes(8, 'big') # pad to 8 bytes or 64 bits\n",
        "\n",
        "    assert (len(message) * 8) % 512 == 0, \"Padding did not complete properly!\"\n",
        "\n",
        "    # Parsing\n",
        "    blocks = [] # contains 512-bit chunks of message\n",
        "    for i in range(0, len(message), 32): # 64 bytes is 512 bits\n",
        "        # print(message)\n",
        "        blocks.append(message[i:i+32])\n",
        "\n",
        "    # Setting Initial Hash Value\n",
        "    h0 = 0x6a09e667\n",
        "    h1 = 0xbb67ae85\n",
        "    h2 = 0x3c6ef372\n",
        "    h3 = 0xa54ff53a\n",
        "    h5 = 0x9b05688c\n",
        "    h4 = 0x510e527f\n",
        "    \n",
        "    # Hash Computation\n",
        "    for message_block in blocks:\n",
        "        # Prepare message schedule\n",
        "        message_schedule = []\n",
        "        for t in range(0, 32):\n",
        "            if t <= 15:\n",
        "                # adds the t'th 32 bit word of the block,\n",
        "                # starting from leftmost word\n",
        "                # 4 bytes at a time\n",
        "                message_schedule.append(bytes(message_block[t*4:(t*4)+4]))\n",
        "            else:\n",
        "                term1 = _sigma1(int.from_bytes(message_schedule[t-2], 'big'))\n",
        "                term2 = int.from_bytes(message_schedule[t-7], 'big')\n",
        "                term3 = _sigma0(int.from_bytes(message_schedule[t-15], 'big'))\n",
        "                term4 = int.from_bytes(message_schedule[t-16], 'big')\n",
        "\n",
        "                # append a 4-byte byte object\n",
        "                schedule = ((term1 + term2 + term3 + term4) % 2**32).to_bytes(4, 'big')\n",
        "                message_schedule.append(schedule)\n",
        "\n",
        "        assert len(message_schedule) == 32\n",
        "\n",
        "        # Initialize working variables\n",
        "        a = h0\n",
        "        b = h1\n",
        "        c = h2\n",
        "        d = h3\n",
        "        e = h4\n",
        "        f = h5\n",
        "        \n",
        "\n",
        "        # Iterate for t=0 to 32\n",
        "        for t in range(32):\n",
        "            t1 = ((f + _capsigma1(d) + _ch(d,e,f) + K[t] +\n",
        "                   int.from_bytes(message_schedule[t], 'big')) % 2**32)\n",
        "\n",
        "            t2 = (_capsigma0(a) + _maj(a, b, c)) % 2**32\n",
        "\n",
        "            f = e\n",
        "            e = d\n",
        "            d = (c + t1) % 2**32\n",
        "            c = b\n",
        "            b = a\n",
        "            a = (t1 + t2) % 2**32\n",
        "\n",
        "        # Compute intermediate hash value\n",
        "        h0 = (h0 + a) % 2**32\n",
        "        h1 = (h1 + b) % 2**32\n",
        "        h2 = (h2 + c) % 2**32\n",
        "        h3 = (h3 + d) % 2**32\n",
        "        h4 = (h4 + e) % 2**32\n",
        "        h5 = (h5 + f) % 2**32\n",
        "       \n",
        "\n",
        "    return ((h0).to_bytes(4, 'big') + (h1).to_bytes(4, 'big') +\n",
        "            (h2).to_bytes(4, 'big') + (h3).to_bytes(4, 'big') +\n",
        "            (h4).to_bytes(4, 'big') + (h5).to_bytes(4, 'big')) \n",
        "\n",
        "def _sigma0(num: int):\n",
        "    \"\"\"As defined in the specification.\"\"\"\n",
        "    num = (_rotate_right(num, 7) ^\n",
        "           _rotate_right(num, 18) ^\n",
        "           (num >> 3))\n",
        "    return num\n",
        "\n",
        "def _sigma1(num: int):\n",
        "    \"\"\"As defined in the specification.\"\"\"\n",
        "    num = (_rotate_right(num, 17) ^\n",
        "           _rotate_right(num, 19) ^\n",
        "           (num >> 10))\n",
        "    return num\n",
        "\n",
        "def _capsigma0(num: int):\n",
        "    \"\"\"As defined in the specification.\"\"\"\n",
        "    num = (_rotate_right(num, 2) ^\n",
        "           _rotate_right(num, 13) ^\n",
        "           _rotate_right(num, 22))\n",
        "    return num\n",
        "\n",
        "def _capsigma1(num: int):\n",
        "    \"\"\"As defined in the specification.\"\"\"\n",
        "    num = (_rotate_right(num, 6) ^\n",
        "           _rotate_right(num, 11) ^\n",
        "           _rotate_right(num, 25))\n",
        "    return num\n",
        "\n",
        "def _ch(x: int, y: int, z: int):\n",
        "    \"\"\"As defined in the specification.\"\"\"\n",
        "    return (x & y) ^ (~x & z)\n",
        "\n",
        "def _maj(x: int, y: int, z: int):\n",
        "    \"\"\"As defined in the specification.\"\"\"\n",
        "    return (x & y) ^ (x & z) ^ (y & z)\n",
        "\n",
        "def _rotate_right(num: int, shift: int, size: int = 32):\n",
        "    \"\"\"Rotate an integer right.\"\"\"\n",
        "    return (num >> shift) | (num << size - shift)\n",
        "\n",
        "if __name__ == \"__main__\":\n",
        "    a = generate_hash(\"Pradhikshen\").hex()\n",
        "    print(\"The hash for sha-192 is \"+a)\n",
        "    print(\"The length of sha-192 hash is \"+str(len(a)))"
      ],
      "metadata": {
        "colab": {
          "base_uri": "https://localhost:8080/"
        },
        "id": "B0Q-FFJeyNmL",
        "outputId": "768e341e-c53e-4038-8a0e-9e0444fdaacf"
      },
      "execution_count": null,
      "outputs": [
        {
          "output_type": "stream",
          "name": "stdout",
          "text": [
            "The hash for sha-192 is f42875fe68ada6b90a51b0c2696751329858f74f19932166\n",
            "The length of sha-192 hash is 48\n"
          ]
        }
      ]
    },
    {
      "cell_type": "code",
      "source": [
        "import cv2\n",
        "\n",
        "img_path1 = '/content/Screenshot (5).png'\n",
        "img1 = cv2.imread(img_path1, 0) \n",
        "\n",
        "(thresh, blackAndWhiteImage) = cv2.threshold(img1, 127, 255, cv2.THRESH_BINARY)\n",
        "img_reverted1= cv2.bitwise_not(img1)\n",
        "new_img1 = img_reverted1 #/ 255.0\n",
        "print(len(new_img1[0]))\n",
        "\n",
        "result1 = new_img1.flatten()\n",
        "print(len(result1))\n",
        "print(result1)\n",
        "\n",
        "text1 = []\n",
        "count1 = 0\n",
        "block1=''\n",
        "for i in result1:\n",
        "  count1 +=1\n",
        "  block1 += str(i)\n",
        "  if(count1 == 512): \n",
        "    text1.append(block1)\n",
        "    block1 = ''\n",
        "    count1 = 0\n",
        "# print(text)\n",
        "print(len(text1))\n",
        "\n",
        "# for i in range(0, len(text1)):\n",
        "  # print('Hash no: ' +str(1)+' is '+ generate_hash(text1[1]).hex())\n",
        "print(generate_hash(text1[0]).hex())\n",
        "print(generate_hash(text1[25]).hex())"
      ],
      "metadata": {
        "id": "ODyWAaL9yeaA",
        "colab": {
          "base_uri": "https://localhost:8080/"
        },
        "outputId": "b4e5fa0e-d9de-4abc-e985-5b72384220f8"
      },
      "execution_count": null,
      "outputs": [
        {
          "output_type": "stream",
          "name": "stdout",
          "text": [
            "808\n",
            "643168\n",
            "[227 227 227 ... 234 227 227]\n",
            "1256\n",
            "bb0bb674a4e02be2c912c9e4156ed42891109060a9aebc55\n",
            "b9b3e98515bf66ba47e69f58d0f4855ccf2927cdab8937c5\n"
          ]
        }
      ]
    },
    {
      "cell_type": "code",
      "source": [
        "img_path2 = '/content/Screenshott.jpg'\n",
        "img2 = cv2.imread(img_path2, 0) \n",
        "\n",
        "(thresh, blackAndWhiteImage) = cv2.threshold(img2, 127, 255, cv2.THRESH_BINARY)\n",
        "img_reverted2= cv2.bitwise_not(img2)\n",
        "new_img2 = img_reverted2 #/ 255.0\n",
        "print(len(new_img2[0]))\n",
        "\n",
        "result2 = new_img2.flatten()\n",
        "print(len(result2))\n",
        "print(result2)\n",
        "\n",
        "text2 = []\n",
        "count2 = 0\n",
        "block2=''\n",
        "for i in result2:\n",
        "  count2 +=1\n",
        "  block2 += str(i)\n",
        "  if(count2 == 512): \n",
        "    text2.append(block2)\n",
        "    block2 = ''\n",
        "    count2 = 0\n",
        "# print(text)\n",
        "print(len(text2))\n",
        "\n",
        "# for i in range(0, len(text2)):\n",
        "#   print('Hash no: ' +str(i+1)+' is '+ generate_hash(text2[i]).hex())\n",
        "print(generate_hash(text2[0]).hex())\n",
        "print(generate_hash(text2[25]).hex())\n"
      ],
      "metadata": {
        "colab": {
          "base_uri": "https://localhost:8080/"
        },
        "id": "MX8jGj4pw_xg",
        "outputId": "a8c7e6a8-7f9d-463e-e184-8300b5672246"
      },
      "execution_count": null,
      "outputs": [
        {
          "output_type": "stream",
          "name": "stdout",
          "text": [
            "528\n",
            "308352\n",
            "[221 221 221 ... 232 231 231]\n",
            "602\n",
            "1aa8445f7b89bdc92dd0146d2a1042c9fde5fcc4ee510a55\n",
            "28899e5bc7cd3f0ceea3d8c478b527c98f94b3a916fcee90\n"
          ]
        }
      ]
    },
    {
      "cell_type": "code",
      "source": [
        "final1 =''\n",
        "for i in result1:\n",
        "  final1 += str(i)\n",
        "print( generate_hash(str(i)).hex())\n",
        "\n",
        "final2 =''\n",
        "for i in result2:\n",
        "  final2 += str(i)\n",
        "print( generate_hash(str(i)).hex())"
      ],
      "metadata": {
        "id": "s-KA0bAv4m52",
        "colab": {
          "base_uri": "https://localhost:8080/"
        },
        "outputId": "002eba92-4332-426a-db97-a73a96d50ea5"
      },
      "execution_count": null,
      "outputs": [
        {
          "output_type": "stream",
          "name": "stdout",
          "text": [
            "32871824ad4240acc3ad83dbdfd05b116220fafd006a129a\n",
            "b3f353deb07edab3648502f24b28a44dc10f5e4091dc49e4\n"
          ]
        }
      ]
    }
  ]
}